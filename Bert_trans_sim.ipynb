{
 "cells": [
  {
   "cell_type": "code",
   "execution_count": 2,
   "metadata": {
    "ExecuteTime": {
     "end_time": "2022-10-13T06:04:53.305501Z",
     "start_time": "2022-10-13T06:04:52.223774Z"
    }
   },
   "outputs": [],
   "source": [
    "import numpy as np\n",
    "import pandas as pd\n",
    "import tensorflow as tf\n",
    "import transformers\n",
    "import torch\n",
    "from transformers import BertTokenizer,BertModel\n",
    "from sklearn.metrics.pairwise import cosine_similarity\n",
    "from nltk.corpus import stopwords\n",
    "from nltk.tokenize import word_tokenize\n",
    "from sentence_transformers import SentenceTransformer\n",
    "from mod import mean_squared_error,direct_acuracy\n",
    "from math import floor, log10\n"
   ]
  },
  {
   "cell_type": "code",
   "execution_count": 3,
   "metadata": {},
   "outputs": [],
   "source": [
    "df=pd.read_csv(\"ds.csv\")"
   ]
  },
  {
   "cell_type": "code",
   "execution_count": 4,
   "metadata": {},
   "outputs": [
    {
     "data": {
      "text/html": [
       "<div>\n",
       "<style scoped>\n",
       "    .dataframe tbody tr th:only-of-type {\n",
       "        vertical-align: middle;\n",
       "    }\n",
       "\n",
       "    .dataframe tbody tr th {\n",
       "        vertical-align: top;\n",
       "    }\n",
       "\n",
       "    .dataframe thead th {\n",
       "        text-align: right;\n",
       "    }\n",
       "</style>\n",
       "<table border=\"1\" class=\"dataframe\">\n",
       "  <thead>\n",
       "    <tr style=\"text-align: right;\">\n",
       "      <th></th>\n",
       "      <th>id</th>\n",
       "      <th>question</th>\n",
       "      <th>desired_answer</th>\n",
       "      <th>student_answer</th>\n",
       "      <th>score_me</th>\n",
       "      <th>score_other</th>\n",
       "      <th>score_avg</th>\n",
       "    </tr>\n",
       "  </thead>\n",
       "  <tbody>\n",
       "    <tr>\n",
       "      <th>0</th>\n",
       "      <td>1.1</td>\n",
       "      <td>What is the role of a prototype program in pro...</td>\n",
       "      <td>To simulate the behaviour of portions of the d...</td>\n",
       "      <td>High risk problems are address in the prototyp...</td>\n",
       "      <td>4.0</td>\n",
       "      <td>3.0</td>\n",
       "      <td>3.5</td>\n",
       "    </tr>\n",
       "    <tr>\n",
       "      <th>1</th>\n",
       "      <td>1.1</td>\n",
       "      <td>What is the role of a prototype program in pro...</td>\n",
       "      <td>To simulate the behaviour of portions of the d...</td>\n",
       "      <td>To simulate portions of the desired final prod...</td>\n",
       "      <td>5.0</td>\n",
       "      <td>5.0</td>\n",
       "      <td>5.0</td>\n",
       "    </tr>\n",
       "    <tr>\n",
       "      <th>2</th>\n",
       "      <td>1.1</td>\n",
       "      <td>What is the role of a prototype program in pro...</td>\n",
       "      <td>To simulate the behaviour of portions of the d...</td>\n",
       "      <td>A prototype program simulates the behaviors of...</td>\n",
       "      <td>5.0</td>\n",
       "      <td>3.0</td>\n",
       "      <td>4.0</td>\n",
       "    </tr>\n",
       "    <tr>\n",
       "      <th>3</th>\n",
       "      <td>1.1</td>\n",
       "      <td>What is the role of a prototype program in pro...</td>\n",
       "      <td>To simulate the behaviour of portions of the d...</td>\n",
       "      <td>Defined in the Specification phase a prototype...</td>\n",
       "      <td>5.0</td>\n",
       "      <td>5.0</td>\n",
       "      <td>5.0</td>\n",
       "    </tr>\n",
       "    <tr>\n",
       "      <th>4</th>\n",
       "      <td>1.1</td>\n",
       "      <td>What is the role of a prototype program in pro...</td>\n",
       "      <td>To simulate the behaviour of portions of the d...</td>\n",
       "      <td>It is used to let the users have a first idea ...</td>\n",
       "      <td>3.0</td>\n",
       "      <td>3.0</td>\n",
       "      <td>3.0</td>\n",
       "    </tr>\n",
       "  </tbody>\n",
       "</table>\n",
       "</div>"
      ],
      "text/plain": [
       "    id                                           question  \\\n",
       "0  1.1  What is the role of a prototype program in pro...   \n",
       "1  1.1  What is the role of a prototype program in pro...   \n",
       "2  1.1  What is the role of a prototype program in pro...   \n",
       "3  1.1  What is the role of a prototype program in pro...   \n",
       "4  1.1  What is the role of a prototype program in pro...   \n",
       "\n",
       "                                      desired_answer  \\\n",
       "0  To simulate the behaviour of portions of the d...   \n",
       "1  To simulate the behaviour of portions of the d...   \n",
       "2  To simulate the behaviour of portions of the d...   \n",
       "3  To simulate the behaviour of portions of the d...   \n",
       "4  To simulate the behaviour of portions of the d...   \n",
       "\n",
       "                                      student_answer  score_me  score_other  \\\n",
       "0  High risk problems are address in the prototyp...       4.0          3.0   \n",
       "1  To simulate portions of the desired final prod...       5.0          5.0   \n",
       "2  A prototype program simulates the behaviors of...       5.0          3.0   \n",
       "3  Defined in the Specification phase a prototype...       5.0          5.0   \n",
       "4  It is used to let the users have a first idea ...       3.0          3.0   \n",
       "\n",
       "   score_avg  \n",
       "0        3.5  \n",
       "1        5.0  \n",
       "2        4.0  \n",
       "3        5.0  \n",
       "4        3.0  "
      ]
     },
     "execution_count": 4,
     "metadata": {},
     "output_type": "execute_result"
    }
   ],
   "source": [
    "df.head()"
   ]
  },
  {
   "cell_type": "code",
   "execution_count": 5,
   "metadata": {},
   "outputs": [],
   "source": [
    "bert_base = SentenceTransformer('bert-base-nli-mean-tokens')\n",
    "\n",
    "df = pd.read_csv('ds.csv')\n",
    "\n",
    "\n",
    "student_answers = df['student_answer'].to_list()\n",
    "ref_answers=df['desired_answer'].to_list()\n",
    "scores_average=df['score_avg'].to_list()\n",
    "pred_scores=[]\n",
    "sim_arr=[]\n",
    "\n",
    "for i,j in zip(ref_answers,student_answers):\n",
    "    embed_array=[]\n",
    "    embed_array.append(i)\n",
    "    embed_array.append(j)\n",
    "    embed_array_res=bert_base.encode(embed_array)\n",
    "\n",
    "    res=cosine_similarity([embed_array_res[0]],embed_array_res[1:])[0][0]\n",
    "    sim_arr.append(res)\n",
    "    pred_scores.append(res*5)"
   ]
  },
  {
   "cell_type": "code",
   "execution_count": 6,
   "metadata": {},
   "outputs": [],
   "source": [
    "pred_scores=[round(num * 2) / 2 for num in pred_scores]\n"
   ]
  }
 ],
 "metadata": {
  "kernelspec": {
   "display_name": "Python 3.10.4 ('sat': venv)",
   "language": "python",
   "name": "python3"
  },
  "language_info": {
   "codemirror_mode": {
    "name": "ipython",
    "version": 3
   },
   "file_extension": ".py",
   "mimetype": "text/x-python",
   "name": "python",
   "nbconvert_exporter": "python",
   "pygments_lexer": "ipython3",
   "version": "3.10.4"
  },
  "toc": {
   "base_numbering": 1,
   "nav_menu": {},
   "number_sections": true,
   "sideBar": true,
   "skip_h1_title": false,
   "title_cell": "Table of Contents",
   "title_sidebar": "Contents",
   "toc_cell": false,
   "toc_position": {},
   "toc_section_display": true,
   "toc_window_display": false
  },
  "varInspector": {
   "cols": {
    "lenName": 16,
    "lenType": 16,
    "lenVar": 40
   },
   "kernels_config": {
    "python": {
     "delete_cmd_postfix": "",
     "delete_cmd_prefix": "del ",
     "library": "var_list.py",
     "varRefreshCmd": "print(var_dic_list())"
    },
    "r": {
     "delete_cmd_postfix": ") ",
     "delete_cmd_prefix": "rm(",
     "library": "var_list.r",
     "varRefreshCmd": "cat(var_dic_list()) "
    }
   },
   "types_to_exclude": [
    "module",
    "function",
    "builtin_function_or_method",
    "instance",
    "_Feature"
   ],
   "window_display": false
  },
  "vscode": {
   "interpreter": {
    "hash": "5a7dae19d2f32240ff39fdb4d6ee7f0f2e5c8558f9b23c130a3c5072de364efe"
   }
  }
 },
 "nbformat": 4,
 "nbformat_minor": 2
}
